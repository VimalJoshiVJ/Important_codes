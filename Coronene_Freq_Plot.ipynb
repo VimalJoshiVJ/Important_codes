{
 "cells": [
  {
   "cell_type": "code",
   "execution_count": 1,
   "id": "c9792b1d-4e6a-4247-b238-2e67f2ffff0a",
   "metadata": {},
   "outputs": [],
   "source": [
    "import numpy as np \n",
    "import pandas as pd \n",
    "import matplotlib.pyplot as plt"
   ]
  },
  {
   "cell_type": "code",
   "execution_count": 2,
   "id": "32cb6a73-359e-43cf-a4ba-bafd93ffc8d8",
   "metadata": {},
   "outputs": [],
   "source": [
    "A= pd.read_excel('Coronene_B3LYP.xlsx' , engine= 'openpyxl')\n",
    "B=pd.read_excel('Coronene_wb97XD.xlsx' , engine= 'openpyxl')"
   ]
  },
  {
   "cell_type": "code",
   "execution_count": 3,
   "id": "43587010-0f7a-4c7b-b2bb-95038fbc6f6d",
   "metadata": {},
   "outputs": [
    {
     "data": {
      "text/html": [
       "<div>\n",
       "<style scoped>\n",
       "    .dataframe tbody tr th:only-of-type {\n",
       "        vertical-align: middle;\n",
       "    }\n",
       "\n",
       "    .dataframe tbody tr th {\n",
       "        vertical-align: top;\n",
       "    }\n",
       "\n",
       "    .dataframe thead th {\n",
       "        text-align: right;\n",
       "    }\n",
       "</style>\n",
       "<table border=\"1\" class=\"dataframe\">\n",
       "  <thead>\n",
       "    <tr style=\"text-align: right;\">\n",
       "      <th></th>\n",
       "      <th>X</th>\n",
       "      <th>Y</th>\n",
       "    </tr>\n",
       "  </thead>\n",
       "  <tbody>\n",
       "    <tr>\n",
       "      <th>0</th>\n",
       "      <td>89.12</td>\n",
       "      <td>0.00000</td>\n",
       "    </tr>\n",
       "    <tr>\n",
       "      <th>1</th>\n",
       "      <td>89.36</td>\n",
       "      <td>0.00000</td>\n",
       "    </tr>\n",
       "    <tr>\n",
       "      <th>2</th>\n",
       "      <td>129.23</td>\n",
       "      <td>5.01513</td>\n",
       "    </tr>\n",
       "    <tr>\n",
       "      <th>3</th>\n",
       "      <td>167.01</td>\n",
       "      <td>0.00000</td>\n",
       "    </tr>\n",
       "    <tr>\n",
       "      <th>4</th>\n",
       "      <td>231.27</td>\n",
       "      <td>0.00000</td>\n",
       "    </tr>\n",
       "    <tr>\n",
       "      <th>...</th>\n",
       "      <td>...</td>\n",
       "      <td>...</td>\n",
       "    </tr>\n",
       "    <tr>\n",
       "      <th>97</th>\n",
       "      <td>3187.39</td>\n",
       "      <td>0.00000</td>\n",
       "    </tr>\n",
       "    <tr>\n",
       "      <th>98</th>\n",
       "      <td>3187.44</td>\n",
       "      <td>0.00000</td>\n",
       "    </tr>\n",
       "    <tr>\n",
       "      <th>99</th>\n",
       "      <td>3188.90</td>\n",
       "      <td>74.75620</td>\n",
       "    </tr>\n",
       "    <tr>\n",
       "      <th>100</th>\n",
       "      <td>3189.04</td>\n",
       "      <td>74.51120</td>\n",
       "    </tr>\n",
       "    <tr>\n",
       "      <th>101</th>\n",
       "      <td>3190.10</td>\n",
       "      <td>0.00000</td>\n",
       "    </tr>\n",
       "  </tbody>\n",
       "</table>\n",
       "<p>102 rows × 2 columns</p>\n",
       "</div>"
      ],
      "text/plain": [
       "           X         Y\n",
       "0      89.12   0.00000\n",
       "1      89.36   0.00000\n",
       "2     129.23   5.01513\n",
       "3     167.01   0.00000\n",
       "4     231.27   0.00000\n",
       "..       ...       ...\n",
       "97   3187.39   0.00000\n",
       "98   3187.44   0.00000\n",
       "99   3188.90  74.75620\n",
       "100  3189.04  74.51120\n",
       "101  3190.10   0.00000\n",
       "\n",
       "[102 rows x 2 columns]"
      ]
     },
     "execution_count": 3,
     "metadata": {},
     "output_type": "execute_result"
    }
   ],
   "source": [
    "A"
   ]
  },
  {
   "cell_type": "code",
   "execution_count": 4,
   "id": "5af25721-71be-40ec-bf7a-f2acc0c25607",
   "metadata": {},
   "outputs": [
    {
     "data": {
      "text/html": [
       "<div>\n",
       "<style scoped>\n",
       "    .dataframe tbody tr th:only-of-type {\n",
       "        vertical-align: middle;\n",
       "    }\n",
       "\n",
       "    .dataframe tbody tr th {\n",
       "        vertical-align: top;\n",
       "    }\n",
       "\n",
       "    .dataframe thead th {\n",
       "        text-align: right;\n",
       "    }\n",
       "</style>\n",
       "<table border=\"1\" class=\"dataframe\">\n",
       "  <thead>\n",
       "    <tr style=\"text-align: right;\">\n",
       "      <th></th>\n",
       "      <th>X</th>\n",
       "      <th>Y</th>\n",
       "    </tr>\n",
       "  </thead>\n",
       "  <tbody>\n",
       "    <tr>\n",
       "      <th>0</th>\n",
       "      <td>89.62</td>\n",
       "      <td>0.00000</td>\n",
       "    </tr>\n",
       "    <tr>\n",
       "      <th>1</th>\n",
       "      <td>89.76</td>\n",
       "      <td>0.00000</td>\n",
       "    </tr>\n",
       "    <tr>\n",
       "      <th>2</th>\n",
       "      <td>128.93</td>\n",
       "      <td>5.21139</td>\n",
       "    </tr>\n",
       "    <tr>\n",
       "      <th>3</th>\n",
       "      <td>168.98</td>\n",
       "      <td>0.00000</td>\n",
       "    </tr>\n",
       "    <tr>\n",
       "      <th>4</th>\n",
       "      <td>229.81</td>\n",
       "      <td>0.00000</td>\n",
       "    </tr>\n",
       "    <tr>\n",
       "      <th>...</th>\n",
       "      <td>...</td>\n",
       "      <td>...</td>\n",
       "    </tr>\n",
       "    <tr>\n",
       "      <th>97</th>\n",
       "      <td>3224.63</td>\n",
       "      <td>0.00000</td>\n",
       "    </tr>\n",
       "    <tr>\n",
       "      <th>98</th>\n",
       "      <td>3224.69</td>\n",
       "      <td>0.00000</td>\n",
       "    </tr>\n",
       "    <tr>\n",
       "      <th>99</th>\n",
       "      <td>3225.95</td>\n",
       "      <td>52.12680</td>\n",
       "    </tr>\n",
       "    <tr>\n",
       "      <th>100</th>\n",
       "      <td>3226.09</td>\n",
       "      <td>51.95430</td>\n",
       "    </tr>\n",
       "    <tr>\n",
       "      <th>101</th>\n",
       "      <td>3226.96</td>\n",
       "      <td>0.00000</td>\n",
       "    </tr>\n",
       "  </tbody>\n",
       "</table>\n",
       "<p>102 rows × 2 columns</p>\n",
       "</div>"
      ],
      "text/plain": [
       "           X         Y\n",
       "0      89.62   0.00000\n",
       "1      89.76   0.00000\n",
       "2     128.93   5.21139\n",
       "3     168.98   0.00000\n",
       "4     229.81   0.00000\n",
       "..       ...       ...\n",
       "97   3224.63   0.00000\n",
       "98   3224.69   0.00000\n",
       "99   3225.95  52.12680\n",
       "100  3226.09  51.95430\n",
       "101  3226.96   0.00000\n",
       "\n",
       "[102 rows x 2 columns]"
      ]
     },
     "execution_count": 4,
     "metadata": {},
     "output_type": "execute_result"
    }
   ],
   "source": [
    "B"
   ]
  },
  {
   "cell_type": "code",
   "execution_count": 5,
   "id": "c9456446-4237-45bd-87af-95d2bd1a3361",
   "metadata": {},
   "outputs": [
    {
     "data": {
      "image/png": "[encoded data removed]",
      "text/plain": [
       "<Figure size 640x480 with 1 Axes>"
      ]
     },
     "metadata": {},
     "output_type": "display_data"
    }
   ],
   "source": [
    "plt.vlines(A['X'], ymin=0 , ymax=A['Y'] , color= 'blue', label= 'Coronene B3LYP-D3BJ')\n",
    "plt.vlines(B['X'] ,ymin=0, ymax=B['Y'], color= 'black', label= 'Coronene wB97X-D3BJ')\n",
    "plt.xlim(0,4000)\n",
    "plt.ylim(110,0 )\n",
    "plt.yticks(fontweight= 'bold')\n",
    "plt.xlabel(\"Frequency (cm$^{-1}$)\" , fontweight= 'bold')\n",
    "plt.ylabel(\"Intensity\" ,fontweight= 'bold')\n",
    "plt.legend( loc=\"lower right\" )\n",
    "ax = plt.gca()\n",
    "ax.xaxis.tick_top()                  # move x-axis ticks to the top\n",
    "ax.xaxis.set_label_position('top')   # move x-axis label to the top\n",
    "plt.xticks(fontweight= 'bold')\n",
    "for spine in plt.gca().spines.values():\n",
    "    spine.set_linewidth(2.5)\n",
    "    spine.set_color('black')\n",
    "plt.savefig(\"Coronene Freq Plot\")\n"
   ]
  },
  {
   "cell_type": "code",
   "execution_count": 6,
   "id": "55a2581a-ec01-4f9a-ad82-c6c68851bd1c",
   "metadata": {},
   "outputs": [
    {
     "data": {
      "text/plain": [
       "<matplotlib.legend.Legend at 0x1a505d1a5d0>"
      ]
     },
     "execution_count": 6,
     "metadata": {},
     "output_type": "execute_result"
    },
    {
     "data": {
      "image/png": "[encoded data removed]",
      "text/plain": [
       "<Figure size 640x480 with 1 Axes>"
      ]
     },
     "metadata": {},
     "output_type": "display_data"
    }
   ],
   "source": [
    "plt.vlines(A['X'], ymin=0 , ymax=A['Y'] , color= 'blue', label= 'Coronene B3LYP-D3BJ')\n",
    "plt.vlines(B['X'] ,ymin=0, ymax=B['Y'], color= 'black', label= 'Coronene wB97X-D3BJ')\n",
    "plt.ylim(bottom=0)\n",
    "plt.legend()"
   ]
  },
  {
   "cell_type": "code",
   "execution_count": null,
   "id": "33ea64db-d6e6-47b9-ad3f-d795a00b4a51",
   "metadata": {},
   "outputs": [],
   "source": []
  },
  {
   "cell_type": "code",
   "execution_count": null,
   "id": "8bda608d-35ef-47f1-8516-55bceaf58071",
   "metadata": {},
   "outputs": [],
   "source": []
  }
 ],
 "metadata": {
  "kernelspec": {
   "display_name": "Python 3 (ipykernel)",
   "language": "python",
   "name": "python3"
  },
  "language_info": {
   "codemirror_mode": {
    "name": "ipython",
    "version": 3
   },
   "file_extension": ".py",
   "mimetype": "text/x-python",
   "name": "python",
   "nbconvert_exporter": "python",
   "pygments_lexer": "ipython3",
   "version": "3.13.2"
  }
 },
 "nbformat": 4,
 "nbformat_minor": 5
}
